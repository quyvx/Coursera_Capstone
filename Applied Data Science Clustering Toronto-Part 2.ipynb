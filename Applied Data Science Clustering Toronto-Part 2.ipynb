{
 "cells": [
  {
   "cell_type": "markdown",
   "metadata": {},
   "source": [
    "# Toronto Neighborhood Clustering"
   ]
  },
  {
   "cell_type": "markdown",
   "metadata": {},
   "source": [
    "Import necessary libraries and web page."
   ]
  },
  {
   "cell_type": "code",
   "execution_count": 1,
   "metadata": {},
   "outputs": [],
   "source": [
    "import requests\n",
    "from bs4 import BeautifulSoup\n",
    "import pandas as pd\n",
    "import numpy as np\n",
    "\n",
    "r = requests.get(\"https://en.wikipedia.org/wiki/List_of_postal_codes_of_Canada:_M\")\n",
    "soup = BeautifulSoup(r.content,\"lxml\")"
   ]
  },
  {
   "cell_type": "markdown",
   "metadata": {},
   "source": [
    "Save table as variable"
   ]
  },
  {
   "cell_type": "code",
   "execution_count": 2,
   "metadata": {},
   "outputs": [],
   "source": [
    "table = soup.find_all('table')[0]"
   ]
  },
  {
   "cell_type": "markdown",
   "metadata": {},
   "source": [
    "Construct a dictionary from the table containing the postal codes, boroughs, and neighborhoods."
   ]
  },
  {
   "cell_type": "code",
   "execution_count": 3,
   "metadata": {},
   "outputs": [],
   "source": [
    "postal_code = []\n",
    "borough = []\n",
    "neighborhood = []\n",
    "for row in table.find_all('tr'):\n",
    "    i = 0\n",
    "    for col in row.find_all('td'):\n",
    "        if i == 0:\n",
    "            postal_code += [col.get_text()]\n",
    "        elif i == 1:\n",
    "            borough += [col.get_text()]\n",
    "        else:\n",
    "            neighborhood += [col.get_text()[:-1]]\n",
    "        i += 1\n",
    "\n",
    "d = {'PostalCode': postal_code, 'Borough': borough, 'Neighborhood': neighborhood}"
   ]
  },
  {
   "cell_type": "markdown",
   "metadata": {},
   "source": [
    "Create data frame."
   ]
  },
  {
   "cell_type": "code",
   "execution_count": 4,
   "metadata": {},
   "outputs": [],
   "source": [
    "df = pd.DataFrame.from_dict(d)"
   ]
  },
  {
   "cell_type": "markdown",
   "metadata": {},
   "source": [
    "Remove rows with a missing borough."
   ]
  },
  {
   "cell_type": "code",
   "execution_count": 5,
   "metadata": {},
   "outputs": [],
   "source": [
    "df = df[df['Borough'] != 'Not assigned']"
   ]
  },
  {
   "cell_type": "markdown",
   "metadata": {},
   "source": [
    "Reindex data frame"
   ]
  },
  {
   "cell_type": "code",
   "execution_count": 6,
   "metadata": {},
   "outputs": [],
   "source": [
    "df.index = range(df.shape[0])"
   ]
  },
  {
   "cell_type": "markdown",
   "metadata": {},
   "source": [
    "Create new dictionary combining neighborhoods with the same postal code. This loop also fixes any neighborhoods that are not assigned."
   ]
  },
  {
   "cell_type": "code",
   "execution_count": 7,
   "metadata": {},
   "outputs": [],
   "source": [
    "d2 = {'PostalCode': [], 'Borough': [], 'Neighborhood': []}\n",
    "for i in range(df.shape[0]):\n",
    "    if df.loc[i,'PostalCode'] in d2['PostalCode']:\n",
    "        d2['Neighborhood'][-1] += ', ' + df.loc[i,'Neighborhood']\n",
    "    else:\n",
    "        d2['PostalCode'] += [df.loc[i,'PostalCode']]\n",
    "        d2['Borough'] += [df.loc[i,'Borough']]\n",
    "        if df.loc[i,'Neighborhood'] == 'Not assigned':\n",
    "            d2['Neighborhood'] += [df.loc[i,'Borough']]\n",
    "        else:\n",
    "            d2['Neighborhood'] += [df.loc[i,'Neighborhood']]"
   ]
  },
  {
   "cell_type": "markdown",
   "metadata": {},
   "source": [
    "New data frame based on new dictionary."
   ]
  },
  {
   "cell_type": "code",
   "execution_count": 8,
   "metadata": {},
   "outputs": [],
   "source": [
    "df2 = pd.DataFrame.from_dict(d2)\n",
    "df2.index = range(df2.shape[0])"
   ]
  },
  {
   "cell_type": "markdown",
   "metadata": {},
   "source": [
    "Reorder columns."
   ]
  },
  {
   "cell_type": "code",
   "execution_count": 9,
   "metadata": {},
   "outputs": [],
   "source": [
    "df2 = df2[['PostalCode','Borough','Neighborhood']]"
   ]
  },
  {
   "cell_type": "markdown",
   "metadata": {},
   "source": [
    "Importing geocoder."
   ]
  },
  {
   "cell_type": "code",
   "execution_count": 10,
   "metadata": {},
   "outputs": [],
   "source": [
    "import geocoder # import geocoder"
   ]
  },
  {
   "cell_type": "markdown",
   "metadata": {},
   "source": [
    "Loop to get lat/lng coordinates for each postal code."
   ]
  },
  {
   "cell_type": "code",
   "execution_count": 11,
   "metadata": {},
   "outputs": [],
   "source": [
    "latitude = []\n",
    "longitude = []\n",
    "\n",
    "for m in df2['PostalCode']:\n",
    "    # initialize your variable to None\n",
    "    lat_lng_coords = None\n",
    "\n",
    "    # loop until you get the coordinates\n",
    "    while(lat_lng_coords is None):\n",
    "        g = geocoder.bing('{}, Toronto, Ontario'.format(m), key='')\n",
    "        lat_lng_coords = g.latlng\n",
    "\n",
    "    latitude.append(lat_lng_coords[0])\n",
    "    longitude.append(lat_lng_coords[1])"
   ]
  },
  {
   "cell_type": "markdown",
   "metadata": {},
   "source": [
    "Adding lat/lng columns to data frame."
   ]
  },
  {
   "cell_type": "code",
   "execution_count": 12,
   "metadata": {},
   "outputs": [],
   "source": [
    "df2['Latitude'] = latitude\n",
    "df2['Longitude'] = longitude"
   ]
  },
  {
   "cell_type": "markdown",
   "metadata": {},
   "source": [
    "## Final Data Frame\n",
    "\n",
    "Note that the data frame is not in the same order as the one in the assignment, but the values match. My data frame is ordered by postal code."
   ]
  },
  {
   "cell_type": "code",
   "execution_count": 13,
   "metadata": {},
   "outputs": [
    {
     "data": {
      "text/html": [
       "<div>\n",
       "<style scoped>\n",
       "    .dataframe tbody tr th:only-of-type {\n",
       "        vertical-align: middle;\n",
       "    }\n",
       "\n",
       "    .dataframe tbody tr th {\n",
       "        vertical-align: top;\n",
       "    }\n",
       "\n",
       "    .dataframe thead th {\n",
       "        text-align: right;\n",
       "    }\n",
       "</style>\n",
       "<table border=\"1\" class=\"dataframe\">\n",
       "  <thead>\n",
       "    <tr style=\"text-align: right;\">\n",
       "      <th></th>\n",
       "      <th>PostalCode</th>\n",
       "      <th>Borough</th>\n",
       "      <th>Neighborhood</th>\n",
       "      <th>Latitude</th>\n",
       "      <th>Longitude</th>\n",
       "    </tr>\n",
       "  </thead>\n",
       "  <tbody>\n",
       "    <tr>\n",
       "      <th>0</th>\n",
       "      <td>M3A</td>\n",
       "      <td>North York</td>\n",
       "      <td>Parkwoods</td>\n",
       "      <td>43.751255</td>\n",
       "      <td>-79.329895</td>\n",
       "    </tr>\n",
       "    <tr>\n",
       "      <th>1</th>\n",
       "      <td>M4A</td>\n",
       "      <td>North York</td>\n",
       "      <td>Victoria Village</td>\n",
       "      <td>43.729958</td>\n",
       "      <td>-79.314201</td>\n",
       "    </tr>\n",
       "    <tr>\n",
       "      <th>2</th>\n",
       "      <td>M5A</td>\n",
       "      <td>Downtown Toronto</td>\n",
       "      <td>Harbourfront, Regent Park</td>\n",
       "      <td>43.655220</td>\n",
       "      <td>-79.361969</td>\n",
       "    </tr>\n",
       "    <tr>\n",
       "      <th>3</th>\n",
       "      <td>M6A</td>\n",
       "      <td>North York</td>\n",
       "      <td>Lawrence Heights, Lawrence Manor</td>\n",
       "      <td>43.722801</td>\n",
       "      <td>-79.450691</td>\n",
       "    </tr>\n",
       "    <tr>\n",
       "      <th>4</th>\n",
       "      <td>M7A</td>\n",
       "      <td>Queen's Park</td>\n",
       "      <td>Queen's Park</td>\n",
       "      <td>43.664486</td>\n",
       "      <td>-79.393021</td>\n",
       "    </tr>\n",
       "    <tr>\n",
       "      <th>5</th>\n",
       "      <td>M9A</td>\n",
       "      <td>Etobicoke</td>\n",
       "      <td>Islington Avenue</td>\n",
       "      <td>43.662743</td>\n",
       "      <td>-79.528427</td>\n",
       "    </tr>\n",
       "    <tr>\n",
       "      <th>6</th>\n",
       "      <td>M1B</td>\n",
       "      <td>Scarborough</td>\n",
       "      <td>Rouge, Malvern</td>\n",
       "      <td>43.810154</td>\n",
       "      <td>-79.194603</td>\n",
       "    </tr>\n",
       "    <tr>\n",
       "      <th>7</th>\n",
       "      <td>M3B</td>\n",
       "      <td>North York</td>\n",
       "      <td>Don Mills North</td>\n",
       "      <td>43.749134</td>\n",
       "      <td>-79.362007</td>\n",
       "    </tr>\n",
       "    <tr>\n",
       "      <th>8</th>\n",
       "      <td>M4B</td>\n",
       "      <td>East York</td>\n",
       "      <td>Woodbine Gardens, Parkview Hill</td>\n",
       "      <td>43.707577</td>\n",
       "      <td>-79.310913</td>\n",
       "    </tr>\n",
       "    <tr>\n",
       "      <th>9</th>\n",
       "      <td>M5B</td>\n",
       "      <td>Downtown Toronto</td>\n",
       "      <td>Ryerson, Garden District</td>\n",
       "      <td>43.657467</td>\n",
       "      <td>-79.377708</td>\n",
       "    </tr>\n",
       "  </tbody>\n",
       "</table>\n",
       "</div>"
      ],
      "text/plain": [
       "  PostalCode           Borough                      Neighborhood   Latitude  \\\n",
       "0        M3A        North York                         Parkwoods  43.751255   \n",
       "1        M4A        North York                  Victoria Village  43.729958   \n",
       "2        M5A  Downtown Toronto         Harbourfront, Regent Park  43.655220   \n",
       "3        M6A        North York  Lawrence Heights, Lawrence Manor  43.722801   \n",
       "4        M7A      Queen's Park                      Queen's Park  43.664486   \n",
       "5        M9A         Etobicoke                  Islington Avenue  43.662743   \n",
       "6        M1B       Scarborough                    Rouge, Malvern  43.810154   \n",
       "7        M3B        North York                   Don Mills North  43.749134   \n",
       "8        M4B         East York   Woodbine Gardens, Parkview Hill  43.707577   \n",
       "9        M5B  Downtown Toronto          Ryerson, Garden District  43.657467   \n",
       "\n",
       "   Longitude  \n",
       "0 -79.329895  \n",
       "1 -79.314201  \n",
       "2 -79.361969  \n",
       "3 -79.450691  \n",
       "4 -79.393021  \n",
       "5 -79.528427  \n",
       "6 -79.194603  \n",
       "7 -79.362007  \n",
       "8 -79.310913  \n",
       "9 -79.377708  "
      ]
     },
     "execution_count": 13,
     "metadata": {},
     "output_type": "execute_result"
    }
   ],
   "source": [
    "df2.head(n=10)"
   ]
  },
  {
   "cell_type": "code",
   "execution_count": 14,
   "metadata": {},
   "outputs": [
    {
     "data": {
      "text/plain": [
       "(103, 5)"
      ]
     },
     "execution_count": 14,
     "metadata": {},
     "output_type": "execute_result"
    }
   ],
   "source": [
    "df2.shape"
   ]
  },
  {
   "cell_type": "markdown",
   "metadata": {},
   "source": [
    "In what follows we duplicate the neighborhood analysis done on the New York dataset."
   ]
  },
  {
   "cell_type": "markdown",
   "metadata": {},
   "source": [
    "Data frame for boroughs with the word 'Toronto' in them."
   ]
  },
  {
   "cell_type": "code",
   "execution_count": 15,
   "metadata": {},
   "outputs": [],
   "source": [
    "df_toronto = df2[df2['Borough'].str.contains('Toronto')]"
   ]
  },
  {
   "cell_type": "code",
   "execution_count": 16,
   "metadata": {},
   "outputs": [
    {
     "data": {
      "text/html": [
       "<div>\n",
       "<style scoped>\n",
       "    .dataframe tbody tr th:only-of-type {\n",
       "        vertical-align: middle;\n",
       "    }\n",
       "\n",
       "    .dataframe tbody tr th {\n",
       "        vertical-align: top;\n",
       "    }\n",
       "\n",
       "    .dataframe thead th {\n",
       "        text-align: right;\n",
       "    }\n",
       "</style>\n",
       "<table border=\"1\" class=\"dataframe\">\n",
       "  <thead>\n",
       "    <tr style=\"text-align: right;\">\n",
       "      <th></th>\n",
       "      <th>PostalCode</th>\n",
       "      <th>Borough</th>\n",
       "      <th>Neighborhood</th>\n",
       "      <th>Latitude</th>\n",
       "      <th>Longitude</th>\n",
       "    </tr>\n",
       "  </thead>\n",
       "  <tbody>\n",
       "    <tr>\n",
       "      <th>2</th>\n",
       "      <td>M5A</td>\n",
       "      <td>Downtown Toronto</td>\n",
       "      <td>Harbourfront, Regent Park</td>\n",
       "      <td>43.655220</td>\n",
       "      <td>-79.361969</td>\n",
       "    </tr>\n",
       "    <tr>\n",
       "      <th>9</th>\n",
       "      <td>M5B</td>\n",
       "      <td>Downtown Toronto</td>\n",
       "      <td>Ryerson, Garden District</td>\n",
       "      <td>43.657467</td>\n",
       "      <td>-79.377708</td>\n",
       "    </tr>\n",
       "    <tr>\n",
       "      <th>15</th>\n",
       "      <td>M5C</td>\n",
       "      <td>Downtown Toronto</td>\n",
       "      <td>St. James Town</td>\n",
       "      <td>43.651211</td>\n",
       "      <td>-79.375481</td>\n",
       "    </tr>\n",
       "    <tr>\n",
       "      <th>19</th>\n",
       "      <td>M4E</td>\n",
       "      <td>East Toronto</td>\n",
       "      <td>The Beaches</td>\n",
       "      <td>43.679611</td>\n",
       "      <td>-79.295692</td>\n",
       "    </tr>\n",
       "    <tr>\n",
       "      <th>20</th>\n",
       "      <td>M5E</td>\n",
       "      <td>Downtown Toronto</td>\n",
       "      <td>Berczy Park</td>\n",
       "      <td>43.643330</td>\n",
       "      <td>-79.372223</td>\n",
       "    </tr>\n",
       "  </tbody>\n",
       "</table>\n",
       "</div>"
      ],
      "text/plain": [
       "   PostalCode           Borough               Neighborhood   Latitude  \\\n",
       "2         M5A  Downtown Toronto  Harbourfront, Regent Park  43.655220   \n",
       "9         M5B  Downtown Toronto   Ryerson, Garden District  43.657467   \n",
       "15        M5C  Downtown Toronto             St. James Town  43.651211   \n",
       "19        M4E      East Toronto                The Beaches  43.679611   \n",
       "20        M5E  Downtown Toronto                Berczy Park  43.643330   \n",
       "\n",
       "    Longitude  \n",
       "2  -79.361969  \n",
       "9  -79.377708  \n",
       "15 -79.375481  \n",
       "19 -79.295692  \n",
       "20 -79.372223  "
      ]
     },
     "execution_count": 16,
     "metadata": {},
     "output_type": "execute_result"
    }
   ],
   "source": [
    "df_toronto.head()"
   ]
  },
  {
   "cell_type": "markdown",
   "metadata": {},
   "source": [
    "Foursquare credentials"
   ]
  },
  {
   "cell_type": "code",
   "execution_count": 17,
   "metadata": {},
   "outputs": [],
   "source": [
    "CLIENT_ID = '' # your Foursquare ID\n",
    "CLIENT_SECRET = '' # your Foursquare Secret\n",
    "VERSION = '20180605' # Foursquare API version\n",
    "radius = 500\n",
    "LIMIT = 100"
   ]
  },
  {
   "cell_type": "markdown",
   "metadata": {},
   "source": [
    "Function for nearby venues for neighborhoods."
   ]
  },
  {
   "cell_type": "code",
   "execution_count": 18,
   "metadata": {},
   "outputs": [],
   "source": [
    "def getNearbyVenues(names, latitudes, longitudes, radius=500):\n",
    "    \n",
    "    venues_list=[]\n",
    "    for name, lat, lng in zip(names, latitudes, longitudes):\n",
    "        print(name)\n",
    "            \n",
    "        # create the API request URL\n",
    "        url = 'https://api.foursquare.com/v2/venues/explore?&client_id={}&client_secret={}&v={}&ll={},{}&radius={}&limit={}'.format(\n",
    "            CLIENT_ID, \n",
    "            CLIENT_SECRET, \n",
    "            VERSION, \n",
    "            lat, \n",
    "            lng, \n",
    "            radius, \n",
    "            LIMIT)\n",
    "            \n",
    "        # make the GET request\n",
    "        results = requests.get(url).json()[\"response\"]['groups'][0]['items']\n",
    "        \n",
    "        # return only relevant information for each nearby venue\n",
    "        venues_list.append([(\n",
    "            name, \n",
    "            lat, \n",
    "            lng, \n",
    "            v['venue']['name'], \n",
    "            v['venue']['location']['lat'], \n",
    "            v['venue']['location']['lng'],  \n",
    "            v['venue']['categories'][0]['name']) for v in results])\n",
    "\n",
    "    nearby_venues = pd.DataFrame([item for venue_list in venues_list for item in venue_list])\n",
    "    nearby_venues.columns = ['Neighborhood', \n",
    "                  'Neighborhood Latitude', \n",
    "                  'Neighborhood Longitude', \n",
    "                  'Venue', \n",
    "                  'Venue Latitude', \n",
    "                  'Venue Longitude', \n",
    "                  'Venue Category']\n",
    "    \n",
    "    return(nearby_venues)"
   ]
  },
  {
   "cell_type": "markdown",
   "metadata": {},
   "source": [
    "Application of previous function to new data frame."
   ]
  },
  {
   "cell_type": "code",
   "execution_count": 19,
   "metadata": {},
   "outputs": [
    {
     "name": "stdout",
     "output_type": "stream",
     "text": [
      "Harbourfront, Regent Park\n",
      "Ryerson, Garden District\n",
      "St. James Town\n",
      "The Beaches\n",
      "Berczy Park\n",
      "Central Bay Street\n",
      "Christie\n",
      "Adelaide, King, Richmond\n",
      "Dovercourt Village, Dufferin\n",
      "Harbourfront East, Toronto Islands, Union Station\n",
      "Little Portugal, Trinity\n",
      "The Danforth West, Riverdale\n",
      "Design Exchange, Toronto Dominion Centre\n",
      "Brockton, Exhibition Place, Parkdale Village\n",
      "The Beaches West, India Bazaar\n",
      "Commerce Court, Victoria Hotel\n",
      "Studio District\n",
      "Lawrence Park\n",
      "Roselawn\n",
      "Davisville North\n",
      "Forest Hill North, Forest Hill West\n",
      "High Park, The Junction South\n",
      "North Toronto West\n",
      "The Annex, North Midtown, Yorkville\n",
      "Parkdale, Roncesvalles\n",
      "Davisville\n",
      "Harbord, University of Toronto\n",
      "Runnymede, Swansea\n",
      "Moore Park, Summerhill East\n",
      "Chinatown, Grange Park, Kensington Market\n",
      "Deer Park, Forest Hill SE, Rathnelly, South Hill, Summerhill West\n",
      "CN Tower, Bathurst Quay, Island airport, Harbourfront West, King and Spadina, Railway Lands, South Niagara\n",
      "Rosedale\n",
      "Stn A PO Boxes 25 The Esplanade\n",
      "Cabbagetown, St. James Town\n",
      "First Canadian Place, Underground city\n",
      "Church and Wellesley\n",
      "Business reply mail Processing Centre969 Eastern\n"
     ]
    }
   ],
   "source": [
    "toronto_venues = getNearbyVenues(names=df_toronto['Neighborhood'],\n",
    "                                 latitudes=df_toronto['Latitude'],\n",
    "                                 longitudes=df_toronto['Longitude'])"
   ]
  },
  {
   "cell_type": "code",
   "execution_count": 20,
   "metadata": {},
   "outputs": [
    {
     "name": "stdout",
     "output_type": "stream",
     "text": [
      "There are 208 uniques categories.\n"
     ]
    }
   ],
   "source": [
    "print('There are {} uniques categories.'.format(len(toronto_venues['Venue Category'].unique())))"
   ]
  },
  {
   "cell_type": "code",
   "execution_count": 21,
   "metadata": {},
   "outputs": [],
   "source": [
    "# one hot encoding\n",
    "toronto_onehot = pd.get_dummies(toronto_venues[['Venue Category']], prefix=\"\", prefix_sep=\"\")\n",
    "\n",
    "# add neighborhood column back to dataframe\n",
    "toronto_onehot['Neighborhood'] = toronto_venues['Neighborhood'] \n",
    "\n",
    "# move neighborhood column to the first column\n",
    "fixed_columns = ['Neighborhood'] + list(toronto_onehot.columns.drop('Neighborhood'))\n",
    "toronto_onehot = toronto_onehot[fixed_columns]"
   ]
  },
  {
   "cell_type": "markdown",
   "metadata": {},
   "source": [
    "Grouping neighborhoods and computing the frequency of each kind of location type."
   ]
  },
  {
   "cell_type": "code",
   "execution_count": 22,
   "metadata": {},
   "outputs": [],
   "source": [
    "toronto_grouped = toronto_onehot.groupby('Neighborhood').mean().reset_index()"
   ]
  },
  {
   "cell_type": "code",
   "execution_count": 23,
   "metadata": {},
   "outputs": [],
   "source": [
    "def return_most_common_venues(row, num_top_venues):\n",
    "    row_categories = row.iloc[1:]\n",
    "    row_categories_sorted = row_categories.sort_values(ascending=False)\n",
    "    \n",
    "    return row_categories_sorted.index.values[0:num_top_venues]"
   ]
  },
  {
   "cell_type": "markdown",
   "metadata": {},
   "source": [
    "Produces top ten locations types per neighborhood."
   ]
  },
  {
   "cell_type": "code",
   "execution_count": 24,
   "metadata": {},
   "outputs": [],
   "source": [
    "num_top_venues = 10\n",
    "\n",
    "indicators = ['st', 'nd', 'rd']\n",
    "\n",
    "# create columns according to number of top venues\n",
    "columns = ['Neighborhood']\n",
    "for ind in np.arange(num_top_venues):\n",
    "    try:\n",
    "        columns.append('{}{} Most Common Venue'.format(ind+1, indicators[ind]))\n",
    "    except:\n",
    "        columns.append('{}th Most Common Venue'.format(ind+1))\n",
    "\n",
    "# create a new dataframe\n",
    "neighborhoods_venues_sorted = pd.DataFrame(columns=columns)\n",
    "neighborhoods_venues_sorted['Neighborhood'] = toronto_grouped['Neighborhood']\n",
    "\n",
    "for ind in np.arange(toronto_grouped.shape[0]):\n",
    "    neighborhoods_venues_sorted.iloc[ind, 1:] = return_most_common_venues(toronto_grouped.iloc[ind, :], num_top_venues)"
   ]
  },
  {
   "cell_type": "code",
   "execution_count": 26,
   "metadata": {},
   "outputs": [
    {
     "data": {
      "text/html": [
       "<div>\n",
       "<style scoped>\n",
       "    .dataframe tbody tr th:only-of-type {\n",
       "        vertical-align: middle;\n",
       "    }\n",
       "\n",
       "    .dataframe tbody tr th {\n",
       "        vertical-align: top;\n",
       "    }\n",
       "\n",
       "    .dataframe thead th {\n",
       "        text-align: right;\n",
       "    }\n",
       "</style>\n",
       "<table border=\"1\" class=\"dataframe\">\n",
       "  <thead>\n",
       "    <tr style=\"text-align: right;\">\n",
       "      <th></th>\n",
       "      <th>Neighborhood</th>\n",
       "      <th>Accessories Store</th>\n",
       "      <th>Adult Boutique</th>\n",
       "      <th>American Restaurant</th>\n",
       "      <th>Arepa Restaurant</th>\n",
       "      <th>Art Gallery</th>\n",
       "      <th>Art Museum</th>\n",
       "      <th>Arts &amp; Crafts Store</th>\n",
       "      <th>Asian Restaurant</th>\n",
       "      <th>Athletics &amp; Sports</th>\n",
       "      <th>...</th>\n",
       "      <th>Trail</th>\n",
       "      <th>Train Station</th>\n",
       "      <th>Vegetarian / Vegan Restaurant</th>\n",
       "      <th>Video Game Store</th>\n",
       "      <th>Vietnamese Restaurant</th>\n",
       "      <th>Wine Bar</th>\n",
       "      <th>Wine Shop</th>\n",
       "      <th>Wings Joint</th>\n",
       "      <th>Women's Store</th>\n",
       "      <th>Yoga Studio</th>\n",
       "    </tr>\n",
       "  </thead>\n",
       "  <tbody>\n",
       "    <tr>\n",
       "      <th>0</th>\n",
       "      <td>Adelaide, King, Richmond</td>\n",
       "      <td>0.01</td>\n",
       "      <td>0.0</td>\n",
       "      <td>0.040000</td>\n",
       "      <td>0.0</td>\n",
       "      <td>0.010000</td>\n",
       "      <td>0.0</td>\n",
       "      <td>0.000000</td>\n",
       "      <td>0.020000</td>\n",
       "      <td>0.0</td>\n",
       "      <td>...</td>\n",
       "      <td>0.0</td>\n",
       "      <td>0.000000</td>\n",
       "      <td>0.010000</td>\n",
       "      <td>0.0</td>\n",
       "      <td>0.000000</td>\n",
       "      <td>0.01</td>\n",
       "      <td>0.0</td>\n",
       "      <td>0.0</td>\n",
       "      <td>0.01</td>\n",
       "      <td>0.000000</td>\n",
       "    </tr>\n",
       "    <tr>\n",
       "      <th>1</th>\n",
       "      <td>Berczy Park</td>\n",
       "      <td>0.00</td>\n",
       "      <td>0.0</td>\n",
       "      <td>0.000000</td>\n",
       "      <td>0.0</td>\n",
       "      <td>0.000000</td>\n",
       "      <td>0.0</td>\n",
       "      <td>0.000000</td>\n",
       "      <td>0.000000</td>\n",
       "      <td>0.0</td>\n",
       "      <td>...</td>\n",
       "      <td>0.0</td>\n",
       "      <td>0.000000</td>\n",
       "      <td>0.000000</td>\n",
       "      <td>0.0</td>\n",
       "      <td>0.000000</td>\n",
       "      <td>0.00</td>\n",
       "      <td>0.0</td>\n",
       "      <td>0.0</td>\n",
       "      <td>0.00</td>\n",
       "      <td>0.000000</td>\n",
       "    </tr>\n",
       "    <tr>\n",
       "      <th>2</th>\n",
       "      <td>Brockton, Exhibition Place, Parkdale Village</td>\n",
       "      <td>0.00</td>\n",
       "      <td>0.0</td>\n",
       "      <td>0.000000</td>\n",
       "      <td>0.0</td>\n",
       "      <td>0.014706</td>\n",
       "      <td>0.0</td>\n",
       "      <td>0.014706</td>\n",
       "      <td>0.000000</td>\n",
       "      <td>0.0</td>\n",
       "      <td>...</td>\n",
       "      <td>0.0</td>\n",
       "      <td>0.000000</td>\n",
       "      <td>0.029412</td>\n",
       "      <td>0.0</td>\n",
       "      <td>0.014706</td>\n",
       "      <td>0.00</td>\n",
       "      <td>0.0</td>\n",
       "      <td>0.0</td>\n",
       "      <td>0.00</td>\n",
       "      <td>0.000000</td>\n",
       "    </tr>\n",
       "    <tr>\n",
       "      <th>3</th>\n",
       "      <td>Business reply mail Processing Centre969 Eastern</td>\n",
       "      <td>0.00</td>\n",
       "      <td>0.0</td>\n",
       "      <td>0.040000</td>\n",
       "      <td>0.0</td>\n",
       "      <td>0.010000</td>\n",
       "      <td>0.0</td>\n",
       "      <td>0.000000</td>\n",
       "      <td>0.020000</td>\n",
       "      <td>0.0</td>\n",
       "      <td>...</td>\n",
       "      <td>0.0</td>\n",
       "      <td>0.000000</td>\n",
       "      <td>0.010000</td>\n",
       "      <td>0.0</td>\n",
       "      <td>0.000000</td>\n",
       "      <td>0.00</td>\n",
       "      <td>0.0</td>\n",
       "      <td>0.0</td>\n",
       "      <td>0.00</td>\n",
       "      <td>0.000000</td>\n",
       "    </tr>\n",
       "    <tr>\n",
       "      <th>4</th>\n",
       "      <td>CN Tower, Bathurst Quay, Island airport, Harbo...</td>\n",
       "      <td>0.00</td>\n",
       "      <td>0.0</td>\n",
       "      <td>0.015152</td>\n",
       "      <td>0.0</td>\n",
       "      <td>0.000000</td>\n",
       "      <td>0.0</td>\n",
       "      <td>0.000000</td>\n",
       "      <td>0.015152</td>\n",
       "      <td>0.0</td>\n",
       "      <td>...</td>\n",
       "      <td>0.0</td>\n",
       "      <td>0.015152</td>\n",
       "      <td>0.015152</td>\n",
       "      <td>0.0</td>\n",
       "      <td>0.000000</td>\n",
       "      <td>0.00</td>\n",
       "      <td>0.0</td>\n",
       "      <td>0.0</td>\n",
       "      <td>0.00</td>\n",
       "      <td>0.015152</td>\n",
       "    </tr>\n",
       "  </tbody>\n",
       "</table>\n",
       "<p>5 rows × 208 columns</p>\n",
       "</div>"
      ],
      "text/plain": [
       "                                        Neighborhood  Accessories Store  \\\n",
       "0                           Adelaide, King, Richmond               0.01   \n",
       "1                                        Berczy Park               0.00   \n",
       "2       Brockton, Exhibition Place, Parkdale Village               0.00   \n",
       "3   Business reply mail Processing Centre969 Eastern               0.00   \n",
       "4  CN Tower, Bathurst Quay, Island airport, Harbo...               0.00   \n",
       "\n",
       "   Adult Boutique  American Restaurant  Arepa Restaurant  Art Gallery  \\\n",
       "0             0.0             0.040000               0.0     0.010000   \n",
       "1             0.0             0.000000               0.0     0.000000   \n",
       "2             0.0             0.000000               0.0     0.014706   \n",
       "3             0.0             0.040000               0.0     0.010000   \n",
       "4             0.0             0.015152               0.0     0.000000   \n",
       "\n",
       "   Art Museum  Arts & Crafts Store  Asian Restaurant  Athletics & Sports  \\\n",
       "0         0.0             0.000000          0.020000                 0.0   \n",
       "1         0.0             0.000000          0.000000                 0.0   \n",
       "2         0.0             0.014706          0.000000                 0.0   \n",
       "3         0.0             0.000000          0.020000                 0.0   \n",
       "4         0.0             0.000000          0.015152                 0.0   \n",
       "\n",
       "      ...       Trail  Train Station  Vegetarian / Vegan Restaurant  \\\n",
       "0     ...         0.0       0.000000                       0.010000   \n",
       "1     ...         0.0       0.000000                       0.000000   \n",
       "2     ...         0.0       0.000000                       0.029412   \n",
       "3     ...         0.0       0.000000                       0.010000   \n",
       "4     ...         0.0       0.015152                       0.015152   \n",
       "\n",
       "   Video Game Store  Vietnamese Restaurant  Wine Bar  Wine Shop  Wings Joint  \\\n",
       "0               0.0               0.000000      0.01        0.0          0.0   \n",
       "1               0.0               0.000000      0.00        0.0          0.0   \n",
       "2               0.0               0.014706      0.00        0.0          0.0   \n",
       "3               0.0               0.000000      0.00        0.0          0.0   \n",
       "4               0.0               0.000000      0.00        0.0          0.0   \n",
       "\n",
       "   Women's Store  Yoga Studio  \n",
       "0           0.01     0.000000  \n",
       "1           0.00     0.000000  \n",
       "2           0.00     0.000000  \n",
       "3           0.00     0.000000  \n",
       "4           0.00     0.015152  \n",
       "\n",
       "[5 rows x 208 columns]"
      ]
     },
     "execution_count": 26,
     "metadata": {},
     "output_type": "execute_result"
    }
   ],
   "source": [
    "toronto_grouped.head()"
   ]
  },
  {
   "cell_type": "markdown",
   "metadata": {},
   "source": [
    "K-means algorithm to group neighborhoods by popular location type in each. Assumed 5 clusters."
   ]
  },
  {
   "cell_type": "code",
   "execution_count": 27,
   "metadata": {},
   "outputs": [],
   "source": [
    "from sklearn.cluster import KMeans\n",
    "\n",
    "# set number of clusters\n",
    "kclusters = 5\n",
    "\n",
    "toronto_grouped_clustering = toronto_grouped.drop('Neighborhood', 1)\n",
    "\n",
    "# run k-means clustering\n",
    "kmeans = KMeans(n_clusters=kclusters, random_state=0).fit(toronto_grouped_clustering)"
   ]
  },
  {
   "cell_type": "code",
   "execution_count": 28,
   "metadata": {},
   "outputs": [
    {
     "name": "stderr",
     "output_type": "stream",
     "text": [
      "C:\\Users\\test\\Anaconda3\\lib\\site-packages\\ipykernel_launcher.py:4: SettingWithCopyWarning: \n",
      "A value is trying to be set on a copy of a slice from a DataFrame.\n",
      "Try using .loc[row_indexer,col_indexer] = value instead\n",
      "\n",
      "See the caveats in the documentation: http://pandas.pydata.org/pandas-docs/stable/indexing.html#indexing-view-versus-copy\n",
      "  after removing the cwd from sys.path.\n"
     ]
    }
   ],
   "source": [
    "toronto_merged = df_toronto\n",
    "\n",
    "# add clustering labels\n",
    "toronto_merged['Cluster Labels'] = kmeans.labels_\n",
    "\n",
    "# merge toronto_grouped with toronto_data to add latitude/longitude for each neighborhood\n",
    "toronto_merged = toronto_merged.join(neighborhoods_venues_sorted.set_index('Neighborhood'), on='Neighborhood')"
   ]
  },
  {
   "cell_type": "code",
   "execution_count": 30,
   "metadata": {},
   "outputs": [
    {
     "data": {
      "text/html": [
       "<div>\n",
       "<style scoped>\n",
       "    .dataframe tbody tr th:only-of-type {\n",
       "        vertical-align: middle;\n",
       "    }\n",
       "\n",
       "    .dataframe tbody tr th {\n",
       "        vertical-align: top;\n",
       "    }\n",
       "\n",
       "    .dataframe thead th {\n",
       "        text-align: right;\n",
       "    }\n",
       "</style>\n",
       "<table border=\"1\" class=\"dataframe\">\n",
       "  <thead>\n",
       "    <tr style=\"text-align: right;\">\n",
       "      <th></th>\n",
       "      <th>PostalCode</th>\n",
       "      <th>Borough</th>\n",
       "      <th>Neighborhood</th>\n",
       "      <th>Latitude</th>\n",
       "      <th>Longitude</th>\n",
       "      <th>Cluster Labels</th>\n",
       "      <th>1st Most Common Venue</th>\n",
       "      <th>2nd Most Common Venue</th>\n",
       "      <th>3rd Most Common Venue</th>\n",
       "      <th>4th Most Common Venue</th>\n",
       "      <th>5th Most Common Venue</th>\n",
       "      <th>6th Most Common Venue</th>\n",
       "      <th>7th Most Common Venue</th>\n",
       "      <th>8th Most Common Venue</th>\n",
       "      <th>9th Most Common Venue</th>\n",
       "      <th>10th Most Common Venue</th>\n",
       "    </tr>\n",
       "  </thead>\n",
       "  <tbody>\n",
       "    <tr>\n",
       "      <th>2</th>\n",
       "      <td>M5A</td>\n",
       "      <td>Downtown Toronto</td>\n",
       "      <td>Harbourfront, Regent Park</td>\n",
       "      <td>43.655220</td>\n",
       "      <td>-79.361969</td>\n",
       "      <td>0</td>\n",
       "      <td>Coffee Shop</td>\n",
       "      <td>Café</td>\n",
       "      <td>Park</td>\n",
       "      <td>Breakfast Spot</td>\n",
       "      <td>Bakery</td>\n",
       "      <td>Yoga Studio</td>\n",
       "      <td>Bank</td>\n",
       "      <td>Gym / Fitness Center</td>\n",
       "      <td>Pub</td>\n",
       "      <td>Restaurant</td>\n",
       "    </tr>\n",
       "    <tr>\n",
       "      <th>9</th>\n",
       "      <td>M5B</td>\n",
       "      <td>Downtown Toronto</td>\n",
       "      <td>Ryerson, Garden District</td>\n",
       "      <td>43.657467</td>\n",
       "      <td>-79.377708</td>\n",
       "      <td>0</td>\n",
       "      <td>Coffee Shop</td>\n",
       "      <td>Clothing Store</td>\n",
       "      <td>Café</td>\n",
       "      <td>Japanese Restaurant</td>\n",
       "      <td>Cosmetics Shop</td>\n",
       "      <td>Bar</td>\n",
       "      <td>Middle Eastern Restaurant</td>\n",
       "      <td>Sandwich Place</td>\n",
       "      <td>Italian Restaurant</td>\n",
       "      <td>Movie Theater</td>\n",
       "    </tr>\n",
       "    <tr>\n",
       "      <th>15</th>\n",
       "      <td>M5C</td>\n",
       "      <td>Downtown Toronto</td>\n",
       "      <td>St. James Town</td>\n",
       "      <td>43.651211</td>\n",
       "      <td>-79.375481</td>\n",
       "      <td>0</td>\n",
       "      <td>Restaurant</td>\n",
       "      <td>Coffee Shop</td>\n",
       "      <td>Café</td>\n",
       "      <td>Bakery</td>\n",
       "      <td>Clothing Store</td>\n",
       "      <td>Hotel</td>\n",
       "      <td>Seafood Restaurant</td>\n",
       "      <td>Cosmetics Shop</td>\n",
       "      <td>Japanese Restaurant</td>\n",
       "      <td>Gastropub</td>\n",
       "    </tr>\n",
       "    <tr>\n",
       "      <th>19</th>\n",
       "      <td>M4E</td>\n",
       "      <td>East Toronto</td>\n",
       "      <td>The Beaches</td>\n",
       "      <td>43.679611</td>\n",
       "      <td>-79.295692</td>\n",
       "      <td>0</td>\n",
       "      <td>Coffee Shop</td>\n",
       "      <td>Bakery</td>\n",
       "      <td>Pub</td>\n",
       "      <td>Trail</td>\n",
       "      <td>Asian Restaurant</td>\n",
       "      <td>Park</td>\n",
       "      <td>Pizza Place</td>\n",
       "      <td>Farm</td>\n",
       "      <td>Falafel Restaurant</td>\n",
       "      <td>Donut Shop</td>\n",
       "    </tr>\n",
       "    <tr>\n",
       "      <th>20</th>\n",
       "      <td>M5E</td>\n",
       "      <td>Downtown Toronto</td>\n",
       "      <td>Berczy Park</td>\n",
       "      <td>43.643330</td>\n",
       "      <td>-79.372223</td>\n",
       "      <td>0</td>\n",
       "      <td>Steakhouse</td>\n",
       "      <td>Beach</td>\n",
       "      <td>Concert Hall</td>\n",
       "      <td>Belgian Restaurant</td>\n",
       "      <td>Restaurant</td>\n",
       "      <td>Japanese Restaurant</td>\n",
       "      <td>Beer Bar</td>\n",
       "      <td>Italian Restaurant</td>\n",
       "      <td>Bar</td>\n",
       "      <td>Movie Theater</td>\n",
       "    </tr>\n",
       "  </tbody>\n",
       "</table>\n",
       "</div>"
      ],
      "text/plain": [
       "   PostalCode           Borough               Neighborhood   Latitude  \\\n",
       "2         M5A  Downtown Toronto  Harbourfront, Regent Park  43.655220   \n",
       "9         M5B  Downtown Toronto   Ryerson, Garden District  43.657467   \n",
       "15        M5C  Downtown Toronto             St. James Town  43.651211   \n",
       "19        M4E      East Toronto                The Beaches  43.679611   \n",
       "20        M5E  Downtown Toronto                Berczy Park  43.643330   \n",
       "\n",
       "    Longitude  Cluster Labels 1st Most Common Venue 2nd Most Common Venue  \\\n",
       "2  -79.361969               0           Coffee Shop                  Café   \n",
       "9  -79.377708               0           Coffee Shop        Clothing Store   \n",
       "15 -79.375481               0            Restaurant           Coffee Shop   \n",
       "19 -79.295692               0           Coffee Shop                Bakery   \n",
       "20 -79.372223               0            Steakhouse                 Beach   \n",
       "\n",
       "   3rd Most Common Venue 4th Most Common Venue 5th Most Common Venue  \\\n",
       "2                   Park        Breakfast Spot                Bakery   \n",
       "9                   Café   Japanese Restaurant        Cosmetics Shop   \n",
       "15                  Café                Bakery        Clothing Store   \n",
       "19                   Pub                 Trail      Asian Restaurant   \n",
       "20          Concert Hall    Belgian Restaurant            Restaurant   \n",
       "\n",
       "   6th Most Common Venue      7th Most Common Venue 8th Most Common Venue  \\\n",
       "2            Yoga Studio                       Bank  Gym / Fitness Center   \n",
       "9                    Bar  Middle Eastern Restaurant        Sandwich Place   \n",
       "15                 Hotel         Seafood Restaurant        Cosmetics Shop   \n",
       "19                  Park                Pizza Place                  Farm   \n",
       "20   Japanese Restaurant                   Beer Bar    Italian Restaurant   \n",
       "\n",
       "   9th Most Common Venue 10th Most Common Venue  \n",
       "2                    Pub             Restaurant  \n",
       "9     Italian Restaurant          Movie Theater  \n",
       "15   Japanese Restaurant              Gastropub  \n",
       "19    Falafel Restaurant             Donut Shop  \n",
       "20                   Bar          Movie Theater  "
      ]
     },
     "execution_count": 30,
     "metadata": {},
     "output_type": "execute_result"
    }
   ],
   "source": [
    "toronto_merged.head()"
   ]
  },
  {
   "cell_type": "markdown",
   "metadata": {},
   "source": [
    "Producing the map with neighborhoods color-coded by cluster label."
   ]
  },
  {
   "cell_type": "code",
   "execution_count": 32,
   "metadata": {},
   "outputs": [],
   "source": [
    "import folium"
   ]
  },
  {
   "cell_type": "code",
   "execution_count": 33,
   "metadata": {},
   "outputs": [
    {
     "data": {
      "text/html": [
       "<div style=\"width:100%;\"><div style=\"position:relative;width:100%;height:0;padding-bottom:60%;\"><iframe src=\"data:text/html;charset=utf-8;base64,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\" style=\"position:absolute;width:100%;height:100%;left:0;top:0;border:none !important;\" allowfullscreen webkitallowfullscreen mozallowfullscreen></iframe></div></div>"
      ],
      "text/plain": [
       "<folium.folium.Map at 0x1ec084d3048>"
      ]
     },
     "execution_count": 33,
     "metadata": {},
     "output_type": "execute_result"
    }
   ],
   "source": [
    "import matplotlib.cm as cm\n",
    "import matplotlib.colors as colors\n",
    "\n",
    "# create map\n",
    "map_clusters = folium.Map(location=[43.657162,-79.378937], zoom_start=11)\n",
    "\n",
    "# set color scheme for the clusters\n",
    "x = np.arange(kclusters)\n",
    "ys = [i+x+(i*x)**2 for i in range(kclusters)]\n",
    "colors_array = cm.rainbow(np.linspace(0, 1, len(ys)))\n",
    "rainbow = [colors.rgb2hex(i) for i in colors_array]\n",
    "\n",
    "# add markers to the map\n",
    "markers_colors = []\n",
    "for lat, lon, poi, cluster in zip(toronto_merged['Latitude'], toronto_merged['Longitude'], toronto_merged['Neighborhood'], toronto_merged['Cluster Labels']):\n",
    "    label = folium.Popup(str(poi) + ' Cluster ' + str(cluster), parse_html=True)\n",
    "    folium.CircleMarker(\n",
    "        [lat, lon],\n",
    "        radius=5,\n",
    "        popup=label,\n",
    "        color=rainbow[cluster-1],\n",
    "        fill=True,\n",
    "        fill_color=rainbow[cluster-1],\n",
    "        fill_opacity=0.7).add_to(map_clusters)\n",
    "       \n",
    "map_clusters"
   ]
  },
  {
   "cell_type": "markdown",
   "metadata": {},
   "source": [
    "## A quick look at cluster 1 - Coffee shops"
   ]
  },
  {
   "cell_type": "code",
   "execution_count": 35,
   "metadata": {},
   "outputs": [
    {
     "data": {
      "text/html": [
       "<div>\n",
       "<style scoped>\n",
       "    .dataframe tbody tr th:only-of-type {\n",
       "        vertical-align: middle;\n",
       "    }\n",
       "\n",
       "    .dataframe tbody tr th {\n",
       "        vertical-align: top;\n",
       "    }\n",
       "\n",
       "    .dataframe thead th {\n",
       "        text-align: right;\n",
       "    }\n",
       "</style>\n",
       "<table border=\"1\" class=\"dataframe\">\n",
       "  <thead>\n",
       "    <tr style=\"text-align: right;\">\n",
       "      <th></th>\n",
       "      <th>PostalCode</th>\n",
       "      <th>Borough</th>\n",
       "      <th>Neighborhood</th>\n",
       "      <th>Latitude</th>\n",
       "      <th>Longitude</th>\n",
       "      <th>Cluster Labels</th>\n",
       "      <th>1st Most Common Venue</th>\n",
       "      <th>2nd Most Common Venue</th>\n",
       "      <th>3rd Most Common Venue</th>\n",
       "      <th>4th Most Common Venue</th>\n",
       "      <th>5th Most Common Venue</th>\n",
       "      <th>6th Most Common Venue</th>\n",
       "      <th>7th Most Common Venue</th>\n",
       "      <th>8th Most Common Venue</th>\n",
       "      <th>9th Most Common Venue</th>\n",
       "      <th>10th Most Common Venue</th>\n",
       "    </tr>\n",
       "  </thead>\n",
       "  <tbody>\n",
       "    <tr>\n",
       "      <th>79</th>\n",
       "      <td>M4S</td>\n",
       "      <td>Central Toronto</td>\n",
       "      <td>Davisville</td>\n",
       "      <td>43.703163</td>\n",
       "      <td>-79.385895</td>\n",
       "      <td>1</td>\n",
       "      <td>Coffee Shop</td>\n",
       "      <td>Dessert Shop</td>\n",
       "      <td>Café</td>\n",
       "      <td>Pizza Place</td>\n",
       "      <td>Seafood Restaurant</td>\n",
       "      <td>Sandwich Place</td>\n",
       "      <td>Italian Restaurant</td>\n",
       "      <td>Fast Food Restaurant</td>\n",
       "      <td>Thai Restaurant</td>\n",
       "      <td>Farmers Market</td>\n",
       "    </tr>\n",
       "    <tr>\n",
       "      <th>81</th>\n",
       "      <td>M6S</td>\n",
       "      <td>West Toronto</td>\n",
       "      <td>Runnymede, Swansea</td>\n",
       "      <td>43.649441</td>\n",
       "      <td>-79.475655</td>\n",
       "      <td>1</td>\n",
       "      <td>Coffee Shop</td>\n",
       "      <td>Café</td>\n",
       "      <td>Bakery</td>\n",
       "      <td>Pizza Place</td>\n",
       "      <td>Gourmet Shop</td>\n",
       "      <td>Bookstore</td>\n",
       "      <td>Flower Shop</td>\n",
       "      <td>Burger Joint</td>\n",
       "      <td>Latin American Restaurant</td>\n",
       "      <td>Bus Line</td>\n",
       "    </tr>\n",
       "  </tbody>\n",
       "</table>\n",
       "</div>"
      ],
      "text/plain": [
       "   PostalCode          Borough        Neighborhood   Latitude  Longitude  \\\n",
       "79        M4S  Central Toronto          Davisville  43.703163 -79.385895   \n",
       "81        M6S     West Toronto  Runnymede, Swansea  43.649441 -79.475655   \n",
       "\n",
       "    Cluster Labels 1st Most Common Venue 2nd Most Common Venue  \\\n",
       "79               1           Coffee Shop          Dessert Shop   \n",
       "81               1           Coffee Shop                  Café   \n",
       "\n",
       "   3rd Most Common Venue 4th Most Common Venue 5th Most Common Venue  \\\n",
       "79                  Café           Pizza Place    Seafood Restaurant   \n",
       "81                Bakery           Pizza Place          Gourmet Shop   \n",
       "\n",
       "   6th Most Common Venue 7th Most Common Venue 8th Most Common Venue  \\\n",
       "79        Sandwich Place    Italian Restaurant  Fast Food Restaurant   \n",
       "81             Bookstore           Flower Shop          Burger Joint   \n",
       "\n",
       "        9th Most Common Venue 10th Most Common Venue  \n",
       "79            Thai Restaurant         Farmers Market  \n",
       "81  Latin American Restaurant               Bus Line  "
      ]
     },
     "execution_count": 35,
     "metadata": {},
     "output_type": "execute_result"
    }
   ],
   "source": [
    "toronto_merged[toronto_merged['Cluster Labels'] == 1]"
   ]
  },
  {
   "cell_type": "markdown",
   "metadata": {},
   "source": [
    "# The map will not render on github. To see my map, go to the [map.png](https://github.com/jathiel/Coursera_Capstone/blob/master/map.png) file on my github page."
   ]
  }
 ],
 "metadata": {
  "hide_input": false,
  "kernelspec": {
   "display_name": "Python 3",
   "language": "python",
   "name": "python3"
  },
  "language_info": {
   "codemirror_mode": {
    "name": "ipython",
    "version": 3
   },
   "file_extension": ".py",
   "mimetype": "text/x-python",
   "name": "python",
   "nbconvert_exporter": "python",
   "pygments_lexer": "ipython3",
   "version": "3.6.1"
  }
 },
 "nbformat": 4,
 "nbformat_minor": 1
}
